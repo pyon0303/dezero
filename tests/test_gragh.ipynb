{
 "cells": [
  {
   "cell_type": "code",
   "execution_count": 3,
   "metadata": {},
   "outputs": [],
   "source": [
    "import matplotlib.pyplot as plt\n",
    "import matplotlib.colors as colors\n",
    "import numpy as np\n",
    "import os, sys\n",
    "import math\n",
    "parent_dir = os.path.abspath(os.path.join(os.getcwd(), os.pardir))\n",
    "sys.path.insert(0, parent_dir)\n",
    "import dezero\n",
    "from dezero import Variable, optimizers\n",
    "from dezero.models import MLP\n",
    "import dezero.functions as F\n",
    "from dezero.datasets import get_spiral"
   ]
  },
  {
   "cell_type": "markdown",
   "metadata": {},
   "source": [
    "## Step29"
   ]
  },
  {
   "cell_type": "code",
   "execution_count": null,
   "metadata": {},
   "outputs": [],
   "source": [
    "def rosenbrock(x0, x1):\n",
    "    y = 100*(x1 - x0 ** 2)**2 + (x0 - 1) ** 2\n",
    "    return y"
   ]
  },
  {
   "cell_type": "code",
   "execution_count": null,
   "metadata": {},
   "outputs": [],
   "source": [
    "x0 = Variable(np.array(0.0))\n",
    "x1 = Variable(np.array(2.0))\n",
    "\n",
    "y = rosenbrock(x0, x1)\n",
    "y.backward()\n",
    "x0.grad, x1.grad"
   ]
  },
  {
   "cell_type": "code",
   "execution_count": null,
   "metadata": {},
   "outputs": [],
   "source": [
    "x = np.linspace(-2, 2 ,400)\n",
    "y = np.linspace(-1, 3, 400)\n",
    "X, Y = np.meshgrid(x, y)\n",
    "Z = rosenbrock(X, Y)\n",
    "\n",
    "contour = plt.contour(X, Y, Z, levels=100, cmap='viridis', norm=colors.LogNorm(vmin=Z.min(), vmax=Z.max()))\n",
    "\n",
    "plt.title('Contour Plot of the Rosenbrock Function')\n",
    "plt.xlabel('x0')\n",
    "plt.ylabel('x1')\n",
    "plt.colorbar(contour)\n",
    "\n",
    "lr = 0.001\n",
    "x0, x1 = (Variable(np.array(0.0)), Variable(np.array(2.0)))\n",
    "xx0 = [x0.data.item()]\n",
    "xx1 = [x1.data.item()]\n",
    "\n",
    "for i in range(10000):\n",
    "    y = rosenbrock(x0, x1)\n",
    "    x0.clear_grad()\n",
    "    x1.clear_grad()\n",
    "    y.backward()\n",
    "    \n",
    "    x0.data -= lr * x0.grad\n",
    "    x1.data -= lr * x1.grad\n",
    "    xx0.append(x0.data.item())\n",
    "    xx1.append(x1.data.item())\n",
    "\n",
    "plt.plot(xx0,xx1, \"-or\", alpha=0.5)\n",
    "\n"
   ]
  },
  {
   "cell_type": "code",
   "execution_count": null,
   "metadata": {},
   "outputs": [],
   "source": [
    "def f(x):\n",
    "    y = x ** 4 - 2 * x ** 2\n",
    "    return y\n",
    "\n",
    "def gx2(x):\n",
    "    return 12 * x ** 2 - 4\n",
    "\n",
    "def newton(x0, x1, iters):\n",
    "    res = [[x0.data.item(), x1.data.item()]]\n",
    "    for i in range(iters):\n",
    "        print(i, x0)  \n",
    "        y = f(x0)\n",
    "        x0.clear_grad()\n",
    "        y.backward()\n",
    "        x0.data -= x0.grad / gx2(x0.data)\n",
    "        res.append([x0.data.item(), y.data.item()])\n",
    "    \n",
    "    return res\n",
    "\n",
    "def sdg(x0, x1, iters, lr=0.001):\n",
    "    res = [[x0.data.item(), x1.data.item()]]\n",
    "    for i in range(iters):\n",
    "        print(i, x0)\n",
    "        y = f(x0)\n",
    "        x0.clear_grad()\n",
    "        y.backward()\n",
    "        x0.data -= lr*x0.grad\n",
    "        res.append([x0.data.item(), y.data.item()])\n",
    "    \n",
    "    return res\n",
    "        \n",
    "x = np.linspace(-2, 2 ,400)\n",
    "y = f(x)\n",
    "\n",
    "flg, ax = plt.subplots(1, 2, figsize=(9,3), sharey=True)\n",
    "ax[0].plot(x, y)\n",
    "ax[1].plot(x, y)\n",
    "\n",
    "x0 = Variable(np.array(2.0))\n",
    "x1 = Variable(np.array(8.0))\n",
    "\n",
    "p0 = newton(x0, x1, 1000)\n",
    "p0 = np.array(p0)\n",
    "ax[0].plot(p0[:,0], p0[:,1], \"-or\")\n",
    "ax[0].set_title('Newton')\n",
    "\n",
    "p1 = sdg(x0, x1, 1000)\n",
    "p1 = np.array(p1)\n",
    "ax[1].plot(p1[:,0], p1[:,1], 'ob')\n",
    "ax[1].set_title('sgd')\n",
    "\n",
    "plt.show()\n"
   ]
  },
  {
   "cell_type": "markdown",
   "metadata": {},
   "source": [
    "## Step33"
   ]
  },
  {
   "cell_type": "code",
   "execution_count": null,
   "metadata": {},
   "outputs": [],
   "source": [
    "x = Variable(np.linspace(-7,7,200))\n",
    "y = F.sin(x)\n",
    "y.backward(create_graph=True)\n",
    "\n",
    "logs = [y.data.flatten()]\n",
    "trial = 3\n",
    "for i in range(trial):\n",
    "    logs.append(x.grad.data.flatten())\n",
    "    gx = x.grad\n",
    "    x.clear_grad()\n",
    "    gx.backward(create_graph=True)\n",
    "\n",
    "labels = ['y=sin(x)', \"y'\", \"y''\", \"y'''\"]\n",
    "for i, v in enumerate(logs):\n",
    "    plt.plot(x.data, logs[i], label=labels[i])\n",
    "    \n",
    "plt.legend(loc='lower right')\n",
    "plt.show()"
   ]
  },
  {
   "cell_type": "code",
   "execution_count": null,
   "metadata": {},
   "outputs": [],
   "source": [
    "origin = 100\n",
    "rate = 0.01\n",
    "term = 365\n",
    "sum = []\n",
    "sum.append(origin)\n",
    "\n",
    "for i in range(term):\n",
    "    origin = origin * (1 + rate)\n",
    "    sum.append(origin)\n",
    "\n",
    "plt.bar(np.arange(term + 1),sum)\n",
    "print(sum[-1])\n",
    "plt.show()\n"
   ]
  },
  {
   "cell_type": "markdown",
   "metadata": {},
   "source": [
    "$y = Wx + b$ \\\n",
    "$W = np.random.rand(100,1)$\\\n",
    "$b = 5$"
   ]
  },
  {
   "cell_type": "code",
   "execution_count": null,
   "metadata": {},
   "outputs": [],
   "source": [
    "np.random.seed(0)\n",
    "x = np.random.rand(100, 1)\n",
    "b = 5\n",
    "y = 2 * x + 5 # \n",
    "plt.scatter(x, y)\n",
    "plt.show()"
   ]
  },
  {
   "cell_type": "code",
   "execution_count": null,
   "metadata": {},
   "outputs": [],
   "source": [
    "np.random.seed(0)\n",
    "x = np.random.rand(100, 1)\n",
    "W = np.random.rand(100, 1)\n",
    "b = 5\n",
    "y = 2 * x + 5 + W # \n",
    "plt.scatter(x, y)\n",
    "plt.show()"
   ]
  },
  {
   "cell_type": "code",
   "execution_count": null,
   "metadata": {},
   "outputs": [],
   "source": [
    "x = np.random.rand(100, 1)\n",
    "y = 5 + 2 * x + np.random.rand(100, 1)\n",
    "x, y = Variable(x), Variable(y)\n",
    "\n",
    "w = Variable(np.zeros((1, 1)))\n",
    "b = Variable(np.zeros(1))"
   ]
  },
  {
   "cell_type": "code",
   "execution_count": 2,
   "metadata": {},
   "outputs": [],
   "source": [
    "def predict(x):\n",
    "    y = F.matmul(x, w) + b\n",
    "    return y\n",
    "\n",
    "def mean_squared_error(x0, x1):\n",
    "    diff = x0 - x1\n",
    "    return F.sum(diff ** 2) / len(diff)"
   ]
  },
  {
   "cell_type": "code",
   "execution_count": null,
   "metadata": {},
   "outputs": [],
   "source": [
    "\n",
    "\n",
    "lr = 0.1\n",
    "iters = 100\n",
    "\n",
    "for i in range(iters):\n",
    "    y_pred = predict(x)\n",
    "    loss = mean_squared_error(y, y_pred)\n",
    "    \n",
    "    w.clear_grad()\n",
    "    b.clear_grad()\n",
    "    loss.backward()\n",
    "    \n",
    "    w.data -= lr * w.grad.data\n",
    "    b.data -= lr * b.grad.data\n",
    "    print(w, b, loss)"
   ]
  },
  {
   "cell_type": "code",
   "execution_count": null,
   "metadata": {},
   "outputs": [],
   "source": [
    "plt.scatter(x.data, y.data)\n",
    "plt.plot(x.data, (x * w + b).data, color='r')\n",
    "plt.show()"
   ]
  },
  {
   "cell_type": "code",
   "execution_count": 3,
   "metadata": {},
   "outputs": [
    {
     "data": {
      "image/png": "[encoded data removed]",
      "text/plain": [
       "<Figure size 640x480 with 1 Axes>"
      ]
     },
     "metadata": {},
     "output_type": "display_data"
    }
   ],
   "source": [
    "np.random.seed(0)\n",
    "x = np.random.rand(100, 1)\n",
    "y = np.sin(2 * np.pi * x) + np.random.rand(100, 1)\n",
    "plt.scatter(x, y)\n",
    "plt.show()"
   ]
  },
  {
   "cell_type": "code",
   "execution_count": 5,
   "metadata": {},
   "outputs": [
    {
     "name": "stdout",
     "output_type": "stream",
     "text": [
      "variable(0.8897859368058644)\n",
      "variable(0.2506006800491759)\n",
      "variable(0.2458216504031558)\n",
      "variable(0.234211803663419)\n",
      "variable(0.20520930151851857)\n",
      "variable(0.1505899698670061)\n",
      "variable(0.08735391913596187)\n",
      "variable(0.0779689420642627)\n",
      "variable(0.07739235601941584)\n",
      "variable(0.0771209655854802)\n"
     ]
    }
   ],
   "source": [
    "I, H, O = 1, 10, 1\n",
    "W1 = Variable(0.01 * np.random.randn(I, H))\n",
    "b1 = Variable(np.zeros(H))\n",
    "W2 = Variable(0.01 * np.random.randn(H, O))\n",
    "b2 = Variable(np.zeros(O))\n",
    "\n",
    "def predict(x):\n",
    "    y = F.linear(x, W1, b1)\n",
    "    y = F.sigmoid(y)\n",
    "    y = F.linear(y, W2, b2)\n",
    "    return y\n",
    "\n",
    "lr = 0.2\n",
    "iters = 10000\n",
    "\n",
    "for i in range(iters):\n",
    "    y_pred = predict(x)\n",
    "    loss = mean_squared_error(y, y_pred)\n",
    "    \n",
    "    #very boiler plate\n",
    "    W1.clear_grad()\n",
    "    W2.clear_grad()\n",
    "    b1.clear_grad()\n",
    "    b2.clear_grad()\n",
    "    \n",
    "    loss.backward()\n",
    "    \n",
    "    W1.data -= lr * W1.grad.data\n",
    "    b1.data -= lr * b1.grad.data\n",
    "    W2.data -= lr * W2.grad.data\n",
    "    b2.data -= lr * b2.grad.data\n",
    "    \n",
    "    if i % 1000 == 0:\n",
    "        print(loss)\n",
    "    "
   ]
  },
  {
   "cell_type": "code",
   "execution_count": 15,
   "metadata": {},
   "outputs": [
    {
     "data": {
      "text/plain": [
       "<matplotlib.collections.PathCollection at 0x7f6edb819c60>"
      ]
     },
     "execution_count": 15,
     "metadata": {},
     "output_type": "execute_result"
    },
    {
     "data": {
      "image/png": "[encoded data removed]",
      "text/plain": [
       "<Figure size 640x480 with 1 Axes>"
      ]
     },
     "metadata": {},
     "output_type": "display_data"
    }
   ],
   "source": [
    "plt.scatter(x, y)\n",
    "plt.scatter(np.linspace(0, 1, 200), predict(np.linspace(0, 1, 200).reshape(200,1)).data, color='r')"
   ]
  },
  {
   "cell_type": "markdown",
   "metadata": {},
   "source": [
    "# Mean Squred Errorの勾配計算で勘違いしてたところ　\\\n",
    "微分の過程で、分母の $N$ がなくなるかどうかについて説明します。\n",
    "\n",
    "### 微分の詳細\n",
    "\n",
    "式 $L = \\frac{1}{N} \\sum (x_0 - x_1)^2$ を考えます。この式は、$N$ 個の項 $(x_0 - x_1)^2$ の平均を表しています。\n",
    "\n",
    "1. **和の展開**:\n",
    "   式は $L = \\frac{1}{N} \\sum_{i=1}^{N} (x_{0,i} - x_{1,i})^2$ と書くことができます。ここで、$x_{0,i}$と $x_{1,i}$ はそれぞれの項に対応する変数です。\n",
    "\n",
    "2. **微分の適用**:\n",
    "   各項 $(x_{0,i} - x_{1,i})^2$ に対して、$x_{1,i}$ で微分を行います。微分結果は $\\frac{d}{dx_{1,i}} (x_{0,i} - x_{1,i})^2 = -2(x_{0,i} - x_{1,i})$ です。\n",
    "\n",
    "   $i$行目の$x_0$である$x_{0,i}$に対する微分なんだから他の行はすべて消えるので$\\sum$ももちろん消えた結果以下の式になる\n",
    "   $$\n",
    "   \\frac{dL}{dx_{1,i}} = \\frac{1}{N} \\sum_{i=1}^{N} -2(x_{0,i} - x_{1,i}) = -\\frac{2}{N} (x_{0,i} - x_{1,i})\n",
    "   $$\n",
    "\n"
   ]
  },
  {
   "cell_type": "code",
   "execution_count": 3,
   "metadata": {},
   "outputs": [
    {
     "name": "stdout",
     "output_type": "stream",
     "text": [
      "epoch 1, loss 1.13\n",
      "epoch 2, loss 1.05\n",
      "epoch 3, loss 0.95\n",
      "epoch 4, loss 0.92\n",
      "epoch 5, loss 0.87\n",
      "epoch 6, loss 0.89\n",
      "epoch 7, loss 0.84\n",
      "epoch 8, loss 0.78\n",
      "epoch 9, loss 0.80\n",
      "epoch 10, loss 0.79\n",
      "epoch 11, loss 0.78\n",
      "epoch 12, loss 0.76\n",
      "epoch 13, loss 0.77\n",
      "epoch 14, loss 0.76\n",
      "epoch 15, loss 0.76\n",
      "epoch 16, loss 0.77\n",
      "epoch 17, loss 0.78\n",
      "epoch 18, loss 0.74\n",
      "epoch 19, loss 0.74\n",
      "epoch 20, loss 0.72\n",
      "epoch 21, loss 0.73\n",
      "epoch 22, loss 0.74\n",
      "epoch 23, loss 0.77\n",
      "epoch 24, loss 0.73\n",
      "epoch 25, loss 0.74\n",
      "epoch 26, loss 0.74\n",
      "epoch 27, loss 0.72\n",
      "epoch 28, loss 0.72\n",
      "epoch 29, loss 0.72\n",
      "epoch 30, loss 0.73\n",
      "epoch 31, loss 0.71\n",
      "epoch 32, loss 0.72\n",
      "epoch 33, loss 0.72\n",
      "epoch 34, loss 0.71\n",
      "epoch 35, loss 0.72\n",
      "epoch 36, loss 0.71\n",
      "epoch 37, loss 0.71\n",
      "epoch 38, loss 0.70\n",
      "epoch 39, loss 0.71\n",
      "epoch 40, loss 0.70\n",
      "epoch 41, loss 0.71\n",
      "epoch 42, loss 0.70\n",
      "epoch 43, loss 0.70\n",
      "epoch 44, loss 0.70\n",
      "epoch 45, loss 0.69\n",
      "epoch 46, loss 0.69\n",
      "epoch 47, loss 0.71\n",
      "epoch 48, loss 0.70\n",
      "epoch 49, loss 0.69\n",
      "epoch 50, loss 0.69\n",
      "epoch 51, loss 0.68\n",
      "epoch 52, loss 0.67\n",
      "epoch 53, loss 0.68\n",
      "epoch 54, loss 0.70\n",
      "epoch 55, loss 0.68\n",
      "epoch 56, loss 0.66\n",
      "epoch 57, loss 0.67\n",
      "epoch 58, loss 0.66\n",
      "epoch 59, loss 0.64\n",
      "epoch 60, loss 0.64\n",
      "epoch 61, loss 0.64\n",
      "epoch 62, loss 0.63\n",
      "epoch 63, loss 0.63\n",
      "epoch 64, loss 0.61\n",
      "epoch 65, loss 0.61\n",
      "epoch 66, loss 0.60\n",
      "epoch 67, loss 0.62\n",
      "epoch 68, loss 0.59\n",
      "epoch 69, loss 0.60\n",
      "epoch 70, loss 0.57\n",
      "epoch 71, loss 0.58\n",
      "epoch 72, loss 0.57\n",
      "epoch 73, loss 0.56\n",
      "epoch 74, loss 0.56\n",
      "epoch 75, loss 0.55\n",
      "epoch 76, loss 0.55\n",
      "epoch 77, loss 0.55\n",
      "epoch 78, loss 0.54\n",
      "epoch 79, loss 0.53\n",
      "epoch 80, loss 0.53\n",
      "epoch 81, loss 0.52\n",
      "epoch 82, loss 0.53\n",
      "epoch 83, loss 0.52\n",
      "epoch 84, loss 0.49\n",
      "epoch 85, loss 0.50\n",
      "epoch 86, loss 0.49\n",
      "epoch 87, loss 0.49\n",
      "epoch 88, loss 0.48\n",
      "epoch 89, loss 0.47\n",
      "epoch 90, loss 0.47\n",
      "epoch 91, loss 0.46\n",
      "epoch 92, loss 0.46\n",
      "epoch 93, loss 0.45\n",
      "epoch 94, loss 0.44\n",
      "epoch 95, loss 0.45\n",
      "epoch 96, loss 0.44\n",
      "epoch 97, loss 0.43\n",
      "epoch 98, loss 0.43\n",
      "epoch 99, loss 0.42\n",
      "epoch 100, loss 0.43\n"
     ]
    },
    {
     "data": {
      "image/png": "[encoded data removed]",
      "text/plain": [
       "<Figure size 640x480 with 1 Axes>"
      ]
     },
     "metadata": {},
     "output_type": "display_data"
    }
   ],
   "source": [
    "#Hyperparameters\n",
    "import dezero.datasets\n",
    "\n",
    "\n",
    "max_epoch = 100\n",
    "batch_size = 30\n",
    "hidden_size = 10\n",
    "lr = 1\n",
    "\n",
    "train_set = dezero.datasets.Spiral(train=True)\n",
    "x, t = train_set.data, train_set.label\n",
    "model = MLP((hidden_size, 3))\n",
    "optimizer = optimizers.SGD(lr).setup(model)\n",
    "\n",
    "data_size = len(x)\n",
    "max_iter = math.ceil(data_size / batch_size)\n",
    "\n",
    "for epoch in range(max_epoch):\n",
    "    #shuffle\n",
    "    index = np.random.permutation(data_size)\n",
    "    sum_loss = 0\n",
    "    \n",
    "    for i in range(max_iter):\n",
    "        batch_index = index[i * batch_size:(i + 1) * batch_size]\n",
    "        batch_x = x[batch_index]\n",
    "        batch_t = t[batch_index]\n",
    "        \n",
    "        y = model(batch_x)\n",
    "        loss = F.softmax_cross_entropy_simple(y, batch_t)\n",
    "        model.cleargrads()\n",
    "        loss.backward()\n",
    "        optimizer.update()\n",
    "        \n",
    "        sum_loss += float(loss.data) * len(batch_t)\n",
    "    \n",
    "    ave_loss = sum_loss / data_size\n",
    "    print('epoch %d, loss %.2f' % (epoch + 1, ave_loss))\n",
    "    \n",
    "h = 0.001\n",
    "x_min, x_max = x[:, 0].min() - .1, x[:, 0].max() + .1\n",
    "y_min, y_max = x[:, 1].min() - .1, x[:, 1].max() + .1\n",
    "\n",
    "xx, yy = np.meshgrid(np.arange(x_min, x_max, h), np.arange(y_min, y_max, h))\n",
    "X = np.c_[xx.ravel(), yy.ravel()]\n",
    "\n",
    "with dezero.no_grad():\n",
    "    score = model(X)\n",
    "\n",
    "predict_cls = np.argmax(score.data, axis=1)\n",
    "Z = predict_cls.reshape(xx.shape)\n",
    "plt.contourf(xx, yy, Z) #Z means height\n",
    "\n",
    "\n",
    "N,CLS_NUM = 100, 3\n",
    "markers = ['o', 'x', '^']\n",
    "colors = ['orange', 'blue', 'green']\n",
    "for i in range(len(x)):\n",
    "    c = t[i]\n",
    "    plt.scatter(x[i][0], x[i][1], s=40, marker=markers[c], c=colors[c])\n",
    "\n"
   ]
  },
  {
   "cell_type": "code",
   "execution_count": 2,
   "metadata": {},
   "outputs": [
    {
     "name": "stdout",
     "output_type": "stream",
     "text": [
      "(array([-0.13981389, -0.00721657], dtype=float32), np.int64(1))\n",
      "300\n"
     ]
    },
    {
     "name": "stdout",
     "output_type": "stream",
     "text": [
      "(array([-0.06990694, -0.00360829], dtype=float32), np.int64(1))\n",
      "2\n"
     ]
    }
   ],
   "source": [
    "import dezero.datasets\n",
    "from dezero import transforms\n",
    "\n",
    "train_set = dezero.datasets.Spiral(train=True)\n",
    "print(train_set[0])\n",
    "print(len(train_set))\n",
    "\n",
    "f = transforms.Compose([transforms.Normalize(mean=0.0, std=2.0), transforms.Astype(np.float64)])\n",
    "train_set = dezero.datasets.Spiral(train=True, transform=f)\n",
    "print(train_set[0])\n",
    "\n",
    "f = transforms.Compose([transforms.Normalize(mean=0.0, std=2.0), transforms.Astype(np.float64)])\n",
    "print(len(f.transforms))\n"
   ]
  },
  {
   "cell_type": "code",
   "execution_count": 7,
   "metadata": {},
   "outputs": [
    {
     "name": "stdout",
     "output_type": "stream",
     "text": [
      "1\n",
      "2\n",
      "3\n",
      "4\n",
      "5\n"
     ]
    }
   ],
   "source": [
    "class MyIterator:\n",
    "    def __init__(self, max_cnt):\n",
    "        self.max_cnt = max_cnt\n",
    "        self.cnt = 0\n",
    "        \n",
    "    def __iter__(self):\n",
    "        return self\n",
    "    \n",
    "    def __next__(self):\n",
    "        if self.cnt == self.max_cnt:\n",
    "            raise StopIteration()\n",
    "        \n",
    "        self.cnt += 1\n",
    "        return self.cnt\n",
    "\n",
    "obj = MyIterator(5)\n",
    "for x in obj:\n",
    "    print(x)"
   ]
  },
  {
   "cell_type": "code",
   "execution_count": 2,
   "metadata": {},
   "outputs": [
    {
     "name": "stdout",
     "output_type": "stream",
     "text": [
      "(10, 2) (10,)\n",
      "(10, 2) (10,)\n"
     ]
    }
   ],
   "source": [
    "from dezero.datasets import Spiral\n",
    "from dezero import DataLoader\n",
    "\n",
    "batch_size = 10\n",
    "max_epoch = 1\n",
    "train_set = Spiral(train=True)\n",
    "test_set = Spiral(train=False)\n",
    "train_loader = DataLoader(train_set, batch_size)\n",
    "test_loader = DataLoader(test_set, batch_size, shuffle=True)\n",
    "\n",
    "for epoch in range(max_epoch):\n",
    "    for x, t in train_loader:\n",
    "        print(x.shape, t.shape)\n",
    "        break\n",
    "    \n",
    "    for x, t in test_loader:\n",
    "        print(x.shape, t.shape)\n",
    "        break\n",
    "\n",
    "    \n",
    "\n"
   ]
  },
  {
   "cell_type": "code",
   "execution_count": 4,
   "metadata": {},
   "outputs": [
    {
     "data": {
      "image/png": "[encoded data removed]",
      "text/plain": [
       "<Figure size 640x480 with 1 Axes>"
      ]
     },
     "metadata": {},
     "output_type": "display_data"
    },
    {
     "name": "stdout",
     "output_type": "stream",
     "text": [
      "label: 5\n"
     ]
    }
   ],
   "source": [
    "train_set = dezero.datasets.MNIST(train=True, transform=None)\n",
    "x, t = train_set[0]\n",
    "plt.imshow(x.reshape(28, 28), cmap='gray')\n",
    "plt.axis('off')\n",
    "plt.show()\n",
    "print('label:', t)"
   ]
  }
 ],
 "metadata": {
  "kernelspec": {
   "display_name": ".env",
   "language": "python",
   "name": "python3"
  },
  "language_info": {
   "codemirror_mode": {
    "name": "ipython",
    "version": 3
   },
   "file_extension": ".py",
   "mimetype": "text/x-python",
   "name": "python",
   "nbconvert_exporter": "python",
   "pygments_lexer": "ipython3",
   "version": "3.10.12"
  }
 },
 "nbformat": 4,
 "nbformat_minor": 2
}
