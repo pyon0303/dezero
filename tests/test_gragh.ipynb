{
 "cells": [
  {
   "cell_type": "code",
   "execution_count": 1,
   "metadata": {},
   "outputs": [],
   "source": [
    "import matplotlib.pyplot as plt\n",
    "import matplotlib.colors as colors\n",
    "import numpy as np\n",
    "import os, sys\n",
    "parent_dir = os.path.abspath(os.path.join(os.getcwd(), os.pardir))\n",
    "sys.path.insert(0, parent_dir)\n",
    "from dezero import Variable\n",
    "import dezero.functions as F"
   ]
  },
  {
   "cell_type": "markdown",
   "metadata": {},
   "source": [
    "## Step29"
   ]
  },
  {
   "cell_type": "code",
   "execution_count": null,
   "metadata": {},
   "outputs": [],
   "source": [
    "def rosenbrock(x0, x1):\n",
    "    y = 100*(x1 - x0 ** 2)**2 + (x0 - 1) ** 2\n",
    "    return y"
   ]
  },
  {
   "cell_type": "code",
   "execution_count": null,
   "metadata": {},
   "outputs": [],
   "source": [
    "x0 = Variable(np.array(0.0))\n",
    "x1 = Variable(np.array(2.0))\n",
    "\n",
    "y = rosenbrock(x0, x1)\n",
    "y.backward()\n",
    "x0.grad, x1.grad"
   ]
  },
  {
   "cell_type": "code",
   "execution_count": null,
   "metadata": {},
   "outputs": [],
   "source": [
    "x = np.linspace(-2, 2 ,400)\n",
    "y = np.linspace(-1, 3, 400)\n",
    "X, Y = np.meshgrid(x, y)\n",
    "Z = rosenbrock(X, Y)\n",
    "\n",
    "contour = plt.contour(X, Y, Z, levels=100, cmap='viridis', norm=colors.LogNorm(vmin=Z.min(), vmax=Z.max()))\n",
    "\n",
    "plt.title('Contour Plot of the Rosenbrock Function')\n",
    "plt.xlabel('x0')\n",
    "plt.ylabel('x1')\n",
    "plt.colorbar(contour)\n",
    "\n",
    "lr = 0.001\n",
    "x0, x1 = (Variable(np.array(0.0)), Variable(np.array(2.0)))\n",
    "xx0 = [x0.data.item()]\n",
    "xx1 = [x1.data.item()]\n",
    "\n",
    "for i in range(10000):\n",
    "    y = rosenbrock(x0, x1)\n",
    "    x0.clear_grad()\n",
    "    x1.clear_grad()\n",
    "    y.backward()\n",
    "    \n",
    "    x0.data -= lr * x0.grad\n",
    "    x1.data -= lr * x1.grad\n",
    "    xx0.append(x0.data.item())\n",
    "    xx1.append(x1.data.item())\n",
    "\n",
    "plt.plot(xx0,xx1, \"-or\", alpha=0.5)\n",
    "\n"
   ]
  },
  {
   "cell_type": "code",
   "execution_count": null,
   "metadata": {},
   "outputs": [],
   "source": [
    "def f(x):\n",
    "    y = x ** 4 - 2 * x ** 2\n",
    "    return y\n",
    "\n",
    "def gx2(x):\n",
    "    return 12 * x ** 2 - 4\n",
    "\n",
    "def newton(x0, x1, iters):\n",
    "    res = [[x0.data.item(), x1.data.item()]]\n",
    "    for i in range(iters):\n",
    "        print(i, x0)  \n",
    "        y = f(x0)\n",
    "        x0.clear_grad()\n",
    "        y.backward()\n",
    "        x0.data -= x0.grad / gx2(x0.data)\n",
    "        res.append([x0.data.item(), y.data.item()])\n",
    "    \n",
    "    return res\n",
    "\n",
    "def sdg(x0, x1, iters, lr=0.001):\n",
    "    res = [[x0.data.item(), x1.data.item()]]\n",
    "    for i in range(iters):\n",
    "        print(i, x0)\n",
    "        y = f(x0)\n",
    "        x0.clear_grad()\n",
    "        y.backward()\n",
    "        x0.data -= lr*x0.grad\n",
    "        res.append([x0.data.item(), y.data.item()])\n",
    "    \n",
    "    return res\n",
    "        \n",
    "x = np.linspace(-2, 2 ,400)\n",
    "y = f(x)\n",
    "\n",
    "flg, ax = plt.subplots(1, 2, figsize=(9,3), sharey=True)\n",
    "ax[0].plot(x, y)\n",
    "ax[1].plot(x, y)\n",
    "\n",
    "x0 = Variable(np.array(2.0))\n",
    "x1 = Variable(np.array(8.0))\n",
    "\n",
    "p0 = newton(x0, x1, 1000)\n",
    "p0 = np.array(p0)\n",
    "ax[0].plot(p0[:,0], p0[:,1], \"-or\")\n",
    "ax[0].set_title('Newton')\n",
    "\n",
    "p1 = sdg(x0, x1, 1000)\n",
    "p1 = np.array(p1)\n",
    "ax[1].plot(p1[:,0], p1[:,1], 'ob')\n",
    "ax[1].set_title('sgd')\n",
    "\n",
    "plt.show()\n"
   ]
  },
  {
   "cell_type": "markdown",
   "metadata": {},
   "source": [
    "## Step33"
   ]
  },
  {
   "cell_type": "code",
   "execution_count": null,
   "metadata": {},
   "outputs": [],
   "source": [
    "x = Variable(np.linspace(-7,7,200))\n",
    "y = F.sin(x)\n",
    "y.backward(create_graph=True)\n",
    "\n",
    "logs = [y.data.flatten()]\n",
    "trial = 3\n",
    "for i in range(trial):\n",
    "    logs.append(x.grad.data.flatten())\n",
    "    gx = x.grad\n",
    "    x.clear_grad()\n",
    "    gx.backward(create_graph=True)\n",
    "\n",
    "labels = ['y=sin(x)', \"y'\", \"y''\", \"y'''\"]\n",
    "for i, v in enumerate(logs):\n",
    "    plt.plot(x.data, logs[i], label=labels[i])\n",
    "    \n",
    "plt.legend(loc='lower right')\n",
    "plt.show()"
   ]
  },
  {
   "cell_type": "code",
   "execution_count": null,
   "metadata": {},
   "outputs": [],
   "source": [
    "origin = 100\n",
    "rate = 0.01\n",
    "term = 365\n",
    "sum = []\n",
    "sum.append(origin)\n",
    "\n",
    "for i in range(term):\n",
    "    origin = origin * (1 + rate)\n",
    "    sum.append(origin)\n",
    "\n",
    "plt.bar(np.arange(term + 1),sum)\n",
    "print(sum[-1])\n",
    "plt.show()\n"
   ]
  },
  {
   "cell_type": "markdown",
   "metadata": {},
   "source": [
    "$y = Wx + b$ \\\n",
    "$W = np.random.rand(100,1)$\\\n",
    "$b = 5$"
   ]
  },
  {
   "cell_type": "code",
   "execution_count": null,
   "metadata": {},
   "outputs": [],
   "source": [
    "np.random.seed(0)\n",
    "x = np.random.rand(100, 1)\n",
    "b = 5\n",
    "y = 2 * x + 5 # \n",
    "plt.scatter(x, y)\n",
    "plt.show()"
   ]
  },
  {
   "cell_type": "code",
   "execution_count": null,
   "metadata": {},
   "outputs": [],
   "source": [
    "np.random.seed(0)\n",
    "x = np.random.rand(100, 1)\n",
    "W = np.random.rand(100, 1)\n",
    "b = 5\n",
    "y = 2 * x + 5 + W # \n",
    "plt.scatter(x, y)\n",
    "plt.show()"
   ]
  },
  {
   "cell_type": "code",
   "execution_count": null,
   "metadata": {},
   "outputs": [],
   "source": [
    "x = np.random.rand(100, 1)\n",
    "y = 5 + 2 * x + np.random.rand(100, 1)\n",
    "x, y = Variable(x), Variable(y)\n",
    "\n",
    "w = Variable(np.zeros((1, 1)))\n",
    "b = Variable(np.zeros(1))"
   ]
  },
  {
   "cell_type": "code",
   "execution_count": 2,
   "metadata": {},
   "outputs": [],
   "source": [
    "def predict(x):\n",
    "    y = F.matmul(x, w) + b\n",
    "    return y\n",
    "\n",
    "def mean_squared_error(x0, x1):\n",
    "    diff = x0 - x1\n",
    "    return F.sum(diff ** 2) / len(diff)"
   ]
  },
  {
   "cell_type": "code",
   "execution_count": null,
   "metadata": {},
   "outputs": [],
   "source": [
    "\n",
    "\n",
    "lr = 0.1\n",
    "iters = 100\n",
    "\n",
    "for i in range(iters):\n",
    "    y_pred = predict(x)\n",
    "    loss = mean_squared_error(y, y_pred)\n",
    "    \n",
    "    w.clear_grad()\n",
    "    b.clear_grad()\n",
    "    loss.backward()\n",
    "    \n",
    "    w.data -= lr * w.grad.data\n",
    "    b.data -= lr * b.grad.data\n",
    "    print(w, b, loss)"
   ]
  },
  {
   "cell_type": "code",
   "execution_count": null,
   "metadata": {},
   "outputs": [],
   "source": [
    "plt.scatter(x.data, y.data)\n",
    "plt.plot(x.data, (x * w + b).data, color='r')\n",
    "plt.show()"
   ]
  },
  {
   "cell_type": "code",
   "execution_count": 3,
   "metadata": {},
   "outputs": [
    {
     "data": {
      "image/png": "[encoded data removed]",
      "text/plain": [
       "<Figure size 640x480 with 1 Axes>"
      ]
     },
     "metadata": {},
     "output_type": "display_data"
    }
   ],
   "source": [
    "np.random.seed(0)\n",
    "x = np.random.rand(100, 1)\n",
    "y = np.sin(2 * np.pi * x) + np.random.rand(100, 1)\n",
    "plt.scatter(x, y)\n",
    "plt.show()"
   ]
  },
  {
   "cell_type": "code",
   "execution_count": 5,
   "metadata": {},
   "outputs": [
    {
     "name": "stdout",
     "output_type": "stream",
     "text": [
      "variable(0.8897859368058644)\n",
      "variable(0.2506006800491759)\n",
      "variable(0.2458216504031558)\n",
      "variable(0.234211803663419)\n",
      "variable(0.20520930151851857)\n",
      "variable(0.1505899698670061)\n",
      "variable(0.08735391913596187)\n",
      "variable(0.0779689420642627)\n",
      "variable(0.07739235601941584)\n",
      "variable(0.0771209655854802)\n"
     ]
    }
   ],
   "source": [
    "I, H, O = 1, 10, 1\n",
    "W1 = Variable(0.01 * np.random.randn(I, H))\n",
    "b1 = Variable(np.zeros(H))\n",
    "W2 = Variable(0.01 * np.random.randn(H, O))\n",
    "b2 = Variable(np.zeros(O))\n",
    "\n",
    "def predict(x):\n",
    "    y = F.linear(x, W1, b1)\n",
    "    y = F.sigmoid(y)\n",
    "    y = F.linear(y, W2, b2)\n",
    "    return y\n",
    "\n",
    "lr = 0.2\n",
    "iters = 10000\n",
    "\n",
    "for i in range(iters):\n",
    "    y_pred = predict(x)\n",
    "    loss = mean_squared_error(y, y_pred)\n",
    "    \n",
    "    #very boiler plate\n",
    "    W1.clear_grad()\n",
    "    W2.clear_grad()\n",
    "    b1.clear_grad()\n",
    "    b2.clear_grad()\n",
    "    \n",
    "    loss.backward()\n",
    "    \n",
    "    W1.data -= lr * W1.grad.data\n",
    "    b1.data -= lr * b1.grad.data\n",
    "    W2.data -= lr * W2.grad.data\n",
    "    b2.data -= lr * b2.grad.data\n",
    "    \n",
    "    if i % 1000 == 0:\n",
    "        print(loss)\n",
    "    "
   ]
  },
  {
   "cell_type": "code",
   "execution_count": 15,
   "metadata": {},
   "outputs": [
    {
     "data": {
      "text/plain": [
       "<matplotlib.collections.PathCollection at 0x7f6edb819c60>"
      ]
     },
     "execution_count": 15,
     "metadata": {},
     "output_type": "execute_result"
    },
    {
     "data": {
      "image/png": "[encoded data removed]",
      "text/plain": [
       "<Figure size 640x480 with 1 Axes>"
      ]
     },
     "metadata": {},
     "output_type": "display_data"
    }
   ],
   "source": [
    "plt.scatter(x, y)\n",
    "plt.scatter(np.linspace(0, 1, 200), predict(np.linspace(0, 1, 200).reshape(200,1)).data, color='r')"
   ]
  },
  {
   "cell_type": "markdown",
   "metadata": {},
   "source": [
    "# Mean Squred Errorの勾配計算で勘違いしてたところ　\\\n",
    "微分の過程で、分母の $N$ がなくなるかどうかについて説明します。\n",
    "\n",
    "### 微分の詳細\n",
    "\n",
    "式 $L = \\frac{1}{N} \\sum (x_0 - x_1)^2$ を考えます。この式は、$N$ 個の項 $(x_0 - x_1)^2$ の平均を表しています。\n",
    "\n",
    "1. **和の展開**:\n",
    "   式は $L = \\frac{1}{N} \\sum_{i=1}^{N} (x_{0,i} - x_{1,i})^2$ と書くことができます。ここで、$x_{0,i}$と $x_{1,i}$ はそれぞれの項に対応する変数です。\n",
    "\n",
    "2. **微分の適用**:\n",
    "   各項 $(x_{0,i} - x_{1,i})^2$ に対して、$x_{1,i}$ で微分を行います。微分結果は $\\frac{d}{dx_{1,i}} (x_{0,i} - x_{1,i})^2 = -2(x_{0,i} - x_{1,i})$ です。\n",
    "\n",
    "3. **全体の微分**:\n",
    "   各項の微分を合計し、$\\frac{1}{N}$ を掛けることで、全体の微分が求まります。したがって、\n",
    "   $$\n",
    "   \\frac{dL}{dx_{1,i}} = \\frac{1}{N} \\sum_{i=1}^{N} -2(x_{0,i} - x_{1,i}) = -\\frac{2}{N} \\sum_{i=1}^{N} (x_{0,i} - x_{1,i})\n",
    "   $$\n",
    "\n",
    "### 勘違いしてたところ\n",
    "\n",
    "$i$行目の$x_0$である$x_{0,i}$に対する微分なんだから$\\sum$は消えるよ\n"
   ]
  },
  {
   "cell_type": "code",
   "execution_count": null,
   "metadata": {},
   "outputs": [],
   "source": []
  }
 ],
 "metadata": {
  "kernelspec": {
   "display_name": ".env",
   "language": "python",
   "name": "python3"
  },
  "language_info": {
   "codemirror_mode": {
    "name": "ipython",
    "version": 3
   },
   "file_extension": ".py",
   "mimetype": "text/x-python",
   "name": "python",
   "nbconvert_exporter": "python",
   "pygments_lexer": "ipython3",
   "version": "3.10.12"
  }
 },
 "nbformat": 4,
 "nbformat_minor": 2
}
